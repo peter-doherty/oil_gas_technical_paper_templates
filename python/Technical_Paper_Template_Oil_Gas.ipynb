{
 "cells": [
  {
   "cell_type": "markdown",
   "metadata": {},
   "source": [
    "#### Proceedings of the INSERT CONFERENCE NAME\n",
    "#### Conference Code ABCD201X\n",
    "#### Month, Year, Location\n",
    "\n",
    "# Title\n",
    "\n",
    "## Authors\n",
    "## Company"
   ]
  },
  {
   "cell_type": "markdown",
   "metadata": {},
   "source": [
    "# Abstract\n",
    "\n",
    "Lorem ipsum dolor sit amet, consectetur adipiscing elit. Sed eu tellus id massa feugiat vulputate eleifend eget odio. Nullam vel laoreet arcu. Quisque a rutrum nulla, eu dignissim purus. Aliquam vestibulum, justo quis euismod lobortis, lacus ipsum feugiat libero, nec dignissim eros erat sit amet massa. Fusce eu placerat justo, eu luctus ex. Quisque tempor mauris ligula, sed euismod nunc auctor in. Integer lacinia efficitur tempus. Etiam tristique euismod pretium.\n",
    "\n",
    "Proin at mattis orci, ac pellentesque dui. Nulla molestie aliquam vestibulum. Cras viverra felis sem, non venenatis tellus laoreet vitae. Proin porttitor, turpis eu rhoncus aliquam, felis erat dictum justo, et placerat diam ante vel purus. Integer vel risus rutrum, vehicula libero at, porttitor neque. Sed sagittis ligula ac sapien dignissim aliquam. Praesent arcu felis, porttitor eu nunc sit amet, pulvinar varius mauris. Aliquam erat volutpat. Proin a velit ut nunc commodo tristique. Nullam sit amet sodales lacus."
   ]
  },
  {
   "cell_type": "markdown",
   "metadata": {},
   "source": [
    "# Introduction\n",
    "\n",
    "Lorem ipsum dolor sit amet, consectetur adipiscing elit. Sed eu tellus id massa feugiat vulputate eleifend eget odio. Nullam vel laoreet arcu. Quisque a rutrum nulla, eu dignissim purus. Aliquam vestibulum, justo quis euismod lobortis, lacus ipsum feugiat libero, nec dignissim eros erat sit amet massa. Fusce eu placerat justo, eu luctus ex. Quisque tempor mauris ligula, sed euismod nunc auctor in. Integer lacinia efficitur tempus. Etiam tristique euismod pretium.\n",
    "\n",
    "Proin at mattis orci, ac pellentesque dui. Nulla molestie aliquam vestibulum. Cras viverra felis sem, non venenatis tellus laoreet vitae. Proin porttitor, turpis eu rhoncus aliquam, felis erat dictum justo, et placerat diam ante vel purus. Integer vel risus rutrum, vehicula libero at, porttitor neque. Sed sagittis ligula ac sapien dignissim aliquam. Praesent arcu felis, porttitor eu nunc sit amet, pulvinar varius mauris. Aliquam erat volutpat. Proin a velit ut nunc commodo tristique. Nullam sit amet sodales lacus."
   ]
  },
  {
   "cell_type": "markdown",
   "metadata": {},
   "source": [
    "<img src=\"figures/oil-rig-334417_640.jpg\" alt=\"Image missing: oil-rig-334417_640.jpg\" style=\"width: 300px;\"/>"
   ]
  },
  {
   "cell_type": "markdown",
   "metadata": {},
   "source": [
    "<b><center>Figure Title</center></b>"
   ]
  },
  {
   "cell_type": "markdown",
   "metadata": {},
   "source": [
    "# Literature Review\n",
    "\n",
    "Lorem ipsum dolor sit amet, consectetur adipiscing elit. Sed eu tellus id massa feugiat vulputate eleifend eget odio. Nullam vel laoreet arcu. Quisque a rutrum nulla, eu dignissim purus. Aliquam vestibulum, justo quis euismod lobortis, lacus ipsum feugiat libero, nec dignissim eros erat sit amet massa. Fusce eu placerat justo, eu luctus ex. Quisque tempor mauris ligula, sed euismod nunc auctor in. Integer lacinia efficitur tempus. Etiam tristique euismod pretium.\n",
    "\n",
    "Proin at mattis orci, ac pellentesque dui. Nulla molestie aliquam vestibulum. Cras viverra felis sem, non venenatis tellus laoreet vitae. Proin porttitor, turpis eu rhoncus aliquam, felis erat dictum justo, et placerat diam ante vel purus. Integer vel risus rutrum, vehicula libero at, porttitor neque. Sed sagittis ligula ac sapien dignissim aliquam. Praesent arcu felis, porttitor eu nunc sit amet, pulvinar varius mauris. Aliquam erat volutpat. Proin a velit ut nunc commodo tristique. Nullam sit amet sodales lacus."
   ]
  },
  {
   "cell_type": "markdown",
   "metadata": {},
   "source": [
    "# Methodology\n",
    "\n",
    "Lorem ipsum dolor sit amet, consectetur adipiscing elit. Sed eu tellus id massa feugiat vulputate eleifend eget odio. Nullam vel laoreet arcu. Quisque a rutrum nulla, eu dignissim purus. Aliquam vestibulum, justo quis euismod lobortis, lacus ipsum feugiat libero, nec dignissim eros erat sit amet massa. Fusce eu placerat justo, eu luctus ex. Quisque tempor mauris ligula, sed euismod nunc auctor in. Integer lacinia efficitur tempus. Etiam tristique euismod pretium.\n",
    "\n",
    "Proin at mattis orci, ac pellentesque dui. Nulla molestie aliquam vestibulum. Cras viverra felis sem, non venenatis tellus laoreet vitae. Proin porttitor, turpis eu rhoncus aliquam, felis erat dictum justo, et placerat diam ante vel purus. Integer vel risus rutrum, vehicula libero at, porttitor neque. Sed sagittis ligula ac sapien dignissim aliquam. Praesent arcu felis, porttitor eu nunc sit amet, pulvinar varius mauris. Aliquam erat volutpat. Proin a velit ut nunc commodo tristique. Nullam sit amet sodales lacus."
   ]
  },
  {
   "cell_type": "code",
   "execution_count": 22,
   "metadata": {},
   "outputs": [
    {
     "data": {
      "text/html": [
       "<div>\n",
       "<style scoped>\n",
       "    .dataframe tbody tr th:only-of-type {\n",
       "        vertical-align: middle;\n",
       "    }\n",
       "\n",
       "    .dataframe tbody tr th {\n",
       "        vertical-align: top;\n",
       "    }\n",
       "\n",
       "    .dataframe thead th {\n",
       "        text-align: right;\n",
       "    }\n",
       "</style>\n",
       "<table border=\"1\" class=\"dataframe\">\n",
       "  <thead>\n",
       "    <tr style=\"text-align: right;\">\n",
       "      <th></th>\n",
       "      <th>ID</th>\n",
       "      <th>Description</th>\n",
       "      <th>Value (mm)</th>\n",
       "    </tr>\n",
       "  </thead>\n",
       "  <tbody>\n",
       "    <tr>\n",
       "      <th>0</th>\n",
       "      <td>1</td>\n",
       "      <td>6-inch pipe</td>\n",
       "      <td>152.4</td>\n",
       "    </tr>\n",
       "    <tr>\n",
       "      <th>1</th>\n",
       "      <td>2</td>\n",
       "      <td>8-inch pipe</td>\n",
       "      <td>203.2</td>\n",
       "    </tr>\n",
       "    <tr>\n",
       "      <th>2</th>\n",
       "      <td>3</td>\n",
       "      <td>12-inch pipe</td>\n",
       "      <td>304.8</td>\n",
       "    </tr>\n",
       "    <tr>\n",
       "      <th>3</th>\n",
       "      <td>4</td>\n",
       "      <td>16-inch pipe</td>\n",
       "      <td>406.4</td>\n",
       "    </tr>\n",
       "    <tr>\n",
       "      <th>4</th>\n",
       "      <td>5</td>\n",
       "      <td>18-inch pipe</td>\n",
       "      <td>457.2</td>\n",
       "    </tr>\n",
       "  </tbody>\n",
       "</table>\n",
       "</div>"
      ],
      "text/plain": [
       "   ID   Description  Value (mm)\n",
       "0   1   6-inch pipe       152.4\n",
       "1   2   8-inch pipe       203.2\n",
       "2   3  12-inch pipe       304.8\n",
       "3   4  16-inch pipe       406.4\n",
       "4   5  18-inch pipe       457.2"
      ]
     },
     "execution_count": 22,
     "metadata": {},
     "output_type": "execute_result"
    }
   ],
   "source": [
    "import pandas as pd\n",
    "\n",
    "pd.read_csv('data/sample_data.csv')"
   ]
  },
  {
   "cell_type": "markdown",
   "metadata": {},
   "source": [
    "## Simple Linear Regression\n",
    "\n",
    "We will start with the most familiar linear regression, a straight-line fit to data.\n",
    "A straight-line fit is a model of the form\n",
    "$$\n",
    "y = ax + b\n",
    "$$\n",
    "where $a$ is commonly known as the *slope*, and $b$ is commonly known as the *intercept*."
   ]
  },
  {
   "cell_type": "code",
   "execution_count": 12,
   "metadata": {},
   "outputs": [],
   "source": [
    "%matplotlib inline\n",
    "import matplotlib.pyplot as plt\n",
    "import seaborn as sns; sns.set()\n",
    "import numpy as np"
   ]
  },
  {
   "cell_type": "code",
   "execution_count": 13,
   "metadata": {},
   "outputs": [
    {
     "data": {
      "image/png": "[encoded data removed]",
      "text/plain": [
       "<Figure size 432x288 with 1 Axes>"
      ]
     },
     "metadata": {},
     "output_type": "display_data"
    }
   ],
   "source": [
    "rng = np.random.RandomState(1)\n",
    "x = 10 * rng.rand(50)\n",
    "y = 2 * x - 5 + rng.randn(50)\n",
    "plt.scatter(x, y);"
   ]
  },
  {
   "cell_type": "markdown",
   "metadata": {},
   "source": [
    "We can use Scikit-Learn's ``LinearRegression`` estimator to fit this data and construct the best-fit line:"
   ]
  },
  {
   "cell_type": "code",
   "execution_count": 14,
   "metadata": {},
   "outputs": [
    {
     "data": {
      "image/png": "[encoded data removed]",
      "text/plain": [
       "<Figure size 432x288 with 1 Axes>"
      ]
     },
     "metadata": {},
     "output_type": "display_data"
    }
   ],
   "source": [
    "from sklearn.linear_model import LinearRegression\n",
    "model = LinearRegression(fit_intercept=True)\n",
    "\n",
    "model.fit(x[:, np.newaxis], y)\n",
    "\n",
    "xfit = np.linspace(0, 10, 1000)\n",
    "yfit = model.predict(xfit[:, np.newaxis])\n",
    "\n",
    "plt.scatter(x, y)\n",
    "plt.plot(xfit, yfit);"
   ]
  },
  {
   "cell_type": "markdown",
   "metadata": {},
   "source": [
    "The slope and intercept of the data are contained in the model's fit parameters, which in Scikit-Learn are always marked by a trailing underscore.\n",
    "Here the relevant parameters are ``coef_`` and ``intercept_``:"
   ]
  },
  {
   "cell_type": "markdown",
   "metadata": {},
   "source": [
    "print(\"Model slope:    \", model.coef_[0])\n",
    "print(\"Model intercept:\", model.intercept_)"
   ]
  },
  {
   "cell_type": "markdown",
   "metadata": {},
   "source": [
    "We see that the results are very close to the inputs, as we might hope."
   ]
  },
  {
   "cell_type": "markdown",
   "metadata": {},
   "source": [
    "The ``LinearRegression`` estimator is much more capable than this, however—in addition to simple straight-line fits, it can also handle multidimensional linear models of the form\n",
    "$$\n",
    "y = a_0 + a_1 x_1 + a_2 x_2 + \\cdots\n",
    "$$\n",
    "where there are multiple $x$ values.\n",
    "Geometrically, this is akin to fitting a plane to points in three dimensions, or fitting a hyper-plane to points in higher dimensions.\n",
    "\n",
    "The multidimensional nature of such regressions makes them more difficult to visualize, but we can see one of these fits in action by building some example data, using NumPy's matrix multiplication operator:"
   ]
  },
  {
   "cell_type": "code",
   "execution_count": 15,
   "metadata": {},
   "outputs": [
    {
     "name": "stdout",
     "output_type": "stream",
     "text": [
      "0.5000000000000127\n",
      "[ 1.5 -2.   1. ]\n"
     ]
    }
   ],
   "source": [
    "rng = np.random.RandomState(1)\n",
    "X = 10 * rng.rand(100, 3)\n",
    "y = 0.5 + np.dot(X, [1.5, -2., 1.])\n",
    "\n",
    "model.fit(X, y)\n",
    "print(model.intercept_)\n",
    "print(model.coef_)"
   ]
  },
  {
   "cell_type": "markdown",
   "metadata": {},
   "source": [
    "Here the $y$ data is constructed from three random $x$ values, and the linear regression recovers the coefficients used to construct the data.\n",
    "\n",
    "In this way, we can use the single ``LinearRegression`` estimator to fit lines, planes, or hyperplanes to our data.\n",
    "It still appears that this approach would be limited to strictly linear relationships between variables, but it turns out we can relax this as well."
   ]
  },
  {
   "cell_type": "markdown",
   "metadata": {},
   "source": [
    "# Results\n",
    "\n",
    "Lorem ipsum dolor sit amet, consectetur adipiscing elit. Sed eu tellus id massa feugiat vulputate eleifend eget odio. Nullam vel laoreet arcu. Quisque a rutrum nulla, eu dignissim purus. Aliquam vestibulum, justo quis euismod lobortis, lacus ipsum feugiat libero, nec dignissim eros erat sit amet massa. Fusce eu placerat justo, eu luctus ex. Quisque tempor mauris ligula, sed euismod nunc auctor in. Integer lacinia efficitur tempus. Etiam tristique euismod pretium.\n",
    "\n",
    "Proin at mattis orci, ac pellentesque dui. Nulla molestie aliquam vestibulum. Cras viverra felis sem, non venenatis tellus laoreet vitae. Proin porttitor, turpis eu rhoncus aliquam, felis erat dictum justo, et placerat diam ante vel purus. Integer vel risus rutrum, vehicula libero at, porttitor neque. Sed sagittis ligula ac sapien dignissim aliquam. Praesent arcu felis, porttitor eu nunc sit amet, pulvinar varius mauris. Aliquam erat volutpat. Proin a velit ut nunc commodo tristique. Nullam sit amet sodales lacus."
   ]
  },
  {
   "cell_type": "markdown",
   "metadata": {},
   "source": [
    "<b><center>Table Title</center></b>"
   ]
  },
  {
   "cell_type": "markdown",
   "metadata": {},
   "source": [
    "| ID | Description   | Value (mm) |\n",
    "|----|---------------|------------|\n",
    "| 1  | 6-inch pipe  | 152.4      |\n",
    "| 2  | 8-inch pipe  | 203.2      |\n",
    "| 3  | 12-inch pipe | 304.8      |\n",
    "| 4  | 16-inch pipe | 406.4      |\n",
    "| 5  | 18-inch pipe | 457.2      |"
   ]
  },
  {
   "cell_type": "markdown",
   "metadata": {},
   "source": [
    "# Discussion\n",
    "\n",
    "Lorem ipsum dolor sit amet, consectetur adipiscing elit. Sed eu tellus id massa feugiat vulputate eleifend eget odio. Nullam vel laoreet arcu. Quisque a rutrum nulla, eu dignissim purus. Aliquam vestibulum, justo quis euismod lobortis, lacus ipsum feugiat libero, nec dignissim eros erat sit amet massa. Fusce eu placerat justo, eu luctus ex. Quisque tempor mauris ligula, sed euismod nunc auctor in. Integer lacinia efficitur tempus. Etiam tristique euismod pretium.\n",
    "\n",
    "Proin at mattis orci, ac pellentesque dui. Nulla molestie aliquam vestibulum. Cras viverra felis sem, non venenatis tellus laoreet vitae. Proin porttitor, turpis eu rhoncus aliquam, felis erat dictum justo, et placerat diam ante vel purus. Integer vel risus rutrum, vehicula libero at, porttitor neque. Sed sagittis ligula ac sapien dignissim aliquam. Praesent arcu felis, porttitor eu nunc sit amet, pulvinar varius mauris. Aliquam erat volutpat. Proin a velit ut nunc commodo tristique. Nullam sit amet sodales lacus."
   ]
  },
  {
   "cell_type": "markdown",
   "metadata": {},
   "source": [
    "# Summary & Conclusions\n",
    "\n",
    "Lorem ipsum dolor sit amet, consectetur adipiscing elit. Sed eu tellus id massa feugiat vulputate eleifend eget odio. Nullam vel laoreet arcu. Quisque a rutrum nulla, eu dignissim purus. Aliquam vestibulum, justo quis euismod lobortis, lacus ipsum feugiat libero, nec dignissim eros erat sit amet massa. Fusce eu placerat justo, eu luctus ex. Quisque tempor mauris ligula, sed euismod nunc auctor in. Integer lacinia efficitur tempus. Etiam tristique euismod pretium.\n",
    "\n",
    "Proin at mattis orci, ac pellentesque dui. Nulla molestie aliquam vestibulum. Cras viverra felis sem, non venenatis tellus laoreet vitae. Proin porttitor, turpis eu rhoncus aliquam, felis erat dictum justo, et placerat diam ante vel purus. Integer vel risus rutrum, vehicula libero at, porttitor neque. Sed sagittis ligula ac sapien dignissim aliquam. Praesent arcu felis, porttitor eu nunc sit amet, pulvinar varius mauris. Aliquam erat volutpat. Proin a velit ut nunc commodo tristique. Nullam sit amet sodales lacus."
   ]
  },
  {
   "cell_type": "markdown",
   "metadata": {},
   "source": [
    "# References\n",
    "\n",
    "1. In Depth: Linear Regression, Python Data Science Handbook, https://github.com/jakevdp/PythonDataScienceHandbook/blob/master/notebooks/05.06-Linear-Regression.ipynb\n",
    "2.\n",
    "3.\n",
    "..."
   ]
  }
 ],
 "metadata": {
  "kernelspec": {
   "display_name": "Python 3",
   "language": "python",
   "name": "python3"
  },
  "language_info": {
   "codemirror_mode": {
    "name": "ipython",
    "version": 3
   },
   "file_extension": ".py",
   "mimetype": "text/x-python",
   "name": "python",
   "nbconvert_exporter": "python",
   "pygments_lexer": "ipython3",
   "version": "3.6.5"
  }
 },
 "nbformat": 4,
 "nbformat_minor": 2
}
