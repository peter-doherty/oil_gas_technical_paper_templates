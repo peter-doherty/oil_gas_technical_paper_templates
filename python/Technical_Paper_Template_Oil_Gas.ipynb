{
 "cells": [
  {
   "cell_type": "code",
   "execution_count": null,
   "metadata": {},
   "outputs": [],
   "source": [
    "#### Proceedings of the [Insert Conference Name]\n",
    "#### Conference Code\n",
    "#### Month, Year, Location\n",
    "\n",
    "# Title\n",
    "\n",
    "## Authors\n",
    "## Company"
   ]
  },
  {
   "cell_type": "code",
   "execution_count": null,
   "metadata": {},
   "outputs": [],
   "source": [
    "# Abstract\n",
    "\n",
    "Lorem ipsum dolor sit amet, consectetur adipiscing elit. Sed eu tellus id massa feugiat vulputate eleifend eget odio. Nullam vel laoreet arcu. Quisque a rutrum nulla, eu dignissim purus. Aliquam vestibulum, justo quis euismod lobortis, lacus ipsum feugiat libero, nec dignissim eros erat sit amet massa. Fusce eu placerat justo, eu luctus ex. Quisque tempor mauris ligula, sed euismod nunc auctor in. Integer lacinia efficitur tempus. Etiam tristique euismod pretium.\n",
    "\n",
    "Proin at mattis orci, ac pellentesque dui. Nulla molestie aliquam vestibulum. Cras viverra felis sem, non venenatis tellus laoreet vitae. Proin porttitor, turpis eu rhoncus aliquam, felis erat dictum justo, et placerat diam ante vel purus. Integer vel risus rutrum, vehicula libero at, porttitor neque. Sed sagittis ligula ac sapien dignissim aliquam. Praesent arcu felis, porttitor eu nunc sit amet, pulvinar varius mauris. Aliquam erat volutpat. Proin a velit ut nunc commodo tristique. Nullam sit amet sodales lacus."
   ]
  },
  {
   "cell_type": "code",
   "execution_count": null,
   "metadata": {},
   "outputs": [],
   "source": [
    "# Introduction\n",
    "\n",
    "Lorem ipsum dolor sit amet, consectetur adipiscing elit. Sed eu tellus id massa feugiat vulputate eleifend eget odio. Nullam vel laoreet arcu. Quisque a rutrum nulla, eu dignissim purus. Aliquam vestibulum, justo quis euismod lobortis, lacus ipsum feugiat libero, nec dignissim eros erat sit amet massa. Fusce eu placerat justo, eu luctus ex. Quisque tempor mauris ligula, sed euismod nunc auctor in. Integer lacinia efficitur tempus. Etiam tristique euismod pretium.\n",
    "\n",
    "Proin at mattis orci, ac pellentesque dui. Nulla molestie aliquam vestibulum. Cras viverra felis sem, non venenatis tellus laoreet vitae. Proin porttitor, turpis eu rhoncus aliquam, felis erat dictum justo, et placerat diam ante vel purus. Integer vel risus rutrum, vehicula libero at, porttitor neque. Sed sagittis ligula ac sapien dignissim aliquam. Praesent arcu felis, porttitor eu nunc sit amet, pulvinar varius mauris. Aliquam erat volutpat. Proin a velit ut nunc commodo tristique. Nullam sit amet sodales lacus."
   ]
  },
  {
   "cell_type": "code",
   "execution_count": null,
   "metadata": {},
   "outputs": [],
   "source": [
    "# Literature Review\n",
    "\n",
    "Lorem ipsum dolor sit amet, consectetur adipiscing elit. Sed eu tellus id massa feugiat vulputate eleifend eget odio. Nullam vel laoreet arcu. Quisque a rutrum nulla, eu dignissim purus. Aliquam vestibulum, justo quis euismod lobortis, lacus ipsum feugiat libero, nec dignissim eros erat sit amet massa. Fusce eu placerat justo, eu luctus ex. Quisque tempor mauris ligula, sed euismod nunc auctor in. Integer lacinia efficitur tempus. Etiam tristique euismod pretium.\n",
    "\n",
    "Proin at mattis orci, ac pellentesque dui. Nulla molestie aliquam vestibulum. Cras viverra felis sem, non venenatis tellus laoreet vitae. Proin porttitor, turpis eu rhoncus aliquam, felis erat dictum justo, et placerat diam ante vel purus. Integer vel risus rutrum, vehicula libero at, porttitor neque. Sed sagittis ligula ac sapien dignissim aliquam. Praesent arcu felis, porttitor eu nunc sit amet, pulvinar varius mauris. Aliquam erat volutpat. Proin a velit ut nunc commodo tristique. Nullam sit amet sodales lacus."
   ]
  },
  {
   "cell_type": "code",
   "execution_count": null,
   "metadata": {},
   "outputs": [],
   "source": [
    "# Methodology\n",
    "\n",
    "Lorem ipsum dolor sit amet, consectetur adipiscing elit. Sed eu tellus id massa feugiat vulputate eleifend eget odio. Nullam vel laoreet arcu. Quisque a rutrum nulla, eu dignissim purus. Aliquam vestibulum, justo quis euismod lobortis, lacus ipsum feugiat libero, nec dignissim eros erat sit amet massa. Fusce eu placerat justo, eu luctus ex. Quisque tempor mauris ligula, sed euismod nunc auctor in. Integer lacinia efficitur tempus. Etiam tristique euismod pretium.\n",
    "\n",
    "Proin at mattis orci, ac pellentesque dui. Nulla molestie aliquam vestibulum. Cras viverra felis sem, non venenatis tellus laoreet vitae. Proin porttitor, turpis eu rhoncus aliquam, felis erat dictum justo, et placerat diam ante vel purus. Integer vel risus rutrum, vehicula libero at, porttitor neque. Sed sagittis ligula ac sapien dignissim aliquam. Praesent arcu felis, porttitor eu nunc sit amet, pulvinar varius mauris. Aliquam erat volutpat. Proin a velit ut nunc commodo tristique. Nullam sit amet sodales lacus."
   ]
  },
  {
   "cell_type": "code",
   "execution_count": null,
   "metadata": {},
   "outputs": [],
   "source": [
    "# Results\n",
    "\n",
    "Lorem ipsum dolor sit amet, consectetur adipiscing elit. Sed eu tellus id massa feugiat vulputate eleifend eget odio. Nullam vel laoreet arcu. Quisque a rutrum nulla, eu dignissim purus. Aliquam vestibulum, justo quis euismod lobortis, lacus ipsum feugiat libero, nec dignissim eros erat sit amet massa. Fusce eu placerat justo, eu luctus ex. Quisque tempor mauris ligula, sed euismod nunc auctor in. Integer lacinia efficitur tempus. Etiam tristique euismod pretium.\n",
    "\n",
    "Proin at mattis orci, ac pellentesque dui. Nulla molestie aliquam vestibulum. Cras viverra felis sem, non venenatis tellus laoreet vitae. Proin porttitor, turpis eu rhoncus aliquam, felis erat dictum justo, et placerat diam ante vel purus. Integer vel risus rutrum, vehicula libero at, porttitor neque. Sed sagittis ligula ac sapien dignissim aliquam. Praesent arcu felis, porttitor eu nunc sit amet, pulvinar varius mauris. Aliquam erat volutpat. Proin a velit ut nunc commodo tristique. Nullam sit amet sodales lacus."
   ]
  },
  {
   "cell_type": "code",
   "execution_count": null,
   "metadata": {},
   "outputs": [],
   "source": [
    "# Discussion\n",
    "\n",
    "Lorem ipsum dolor sit amet, consectetur adipiscing elit. Sed eu tellus id massa feugiat vulputate eleifend eget odio. Nullam vel laoreet arcu. Quisque a rutrum nulla, eu dignissim purus. Aliquam vestibulum, justo quis euismod lobortis, lacus ipsum feugiat libero, nec dignissim eros erat sit amet massa. Fusce eu placerat justo, eu luctus ex. Quisque tempor mauris ligula, sed euismod nunc auctor in. Integer lacinia efficitur tempus. Etiam tristique euismod pretium.\n",
    "\n",
    "Proin at mattis orci, ac pellentesque dui. Nulla molestie aliquam vestibulum. Cras viverra felis sem, non venenatis tellus laoreet vitae. Proin porttitor, turpis eu rhoncus aliquam, felis erat dictum justo, et placerat diam ante vel purus. Integer vel risus rutrum, vehicula libero at, porttitor neque. Sed sagittis ligula ac sapien dignissim aliquam. Praesent arcu felis, porttitor eu nunc sit amet, pulvinar varius mauris. Aliquam erat volutpat. Proin a velit ut nunc commodo tristique. Nullam sit amet sodales lacus."
   ]
  },
  {
   "cell_type": "code",
   "execution_count": null,
   "metadata": {},
   "outputs": [],
   "source": [
    "# Summary & Conclusions\n",
    "\n",
    "Lorem ipsum dolor sit amet, consectetur adipiscing elit. Sed eu tellus id massa feugiat vulputate eleifend eget odio. Nullam vel laoreet arcu. Quisque a rutrum nulla, eu dignissim purus. Aliquam vestibulum, justo quis euismod lobortis, lacus ipsum feugiat libero, nec dignissim eros erat sit amet massa. Fusce eu placerat justo, eu luctus ex. Quisque tempor mauris ligula, sed euismod nunc auctor in. Integer lacinia efficitur tempus. Etiam tristique euismod pretium.\n",
    "\n",
    "Proin at mattis orci, ac pellentesque dui. Nulla molestie aliquam vestibulum. Cras viverra felis sem, non venenatis tellus laoreet vitae. Proin porttitor, turpis eu rhoncus aliquam, felis erat dictum justo, et placerat diam ante vel purus. Integer vel risus rutrum, vehicula libero at, porttitor neque. Sed sagittis ligula ac sapien dignissim aliquam. Praesent arcu felis, porttitor eu nunc sit amet, pulvinar varius mauris. Aliquam erat volutpat. Proin a velit ut nunc commodo tristique. Nullam sit amet sodales lacus."
   ]
  },
  {
   "cell_type": "code",
   "execution_count": null,
   "metadata": {},
   "outputs": [],
   "source": [
    "# References\n",
    "\n",
    "1. \n",
    "2.\n",
    "3.\n",
    "..."
   ]
  }
 ],
 "metadata": {
  "kernelspec": {
   "display_name": "Python 3",
   "language": "python",
   "name": "python3"
  },
  "language_info": {
   "codemirror_mode": {
    "name": "ipython",
    "version": 3
   },
   "file_extension": ".py",
   "mimetype": "text/x-python",
   "name": "python",
   "nbconvert_exporter": "python",
   "pygments_lexer": "ipython3",
   "version": "3.6.5"
  }
 },
 "nbformat": 4,
 "nbformat_minor": 2
}
